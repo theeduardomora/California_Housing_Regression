{
  "nbformat": 4,
  "nbformat_minor": 0,
  "metadata": {
    "colab": {
      "name": "CaliforniaHousing.ipynb",
      "provenance": []
    },
    "kernelspec": {
      "name": "python3",
      "display_name": "Python 3"
    },
    "language_info": {
      "name": "python"
    },
    "accelerator": "GPU",
    "gpuClass": "standard"
  },
  "cells": [
    {
      "cell_type": "code",
      "source": [
        "!pip install --upgrade scikit-learn"
      ],
      "metadata": {
        "colab": {
          "base_uri": "https://localhost:8080/"
        },
        "id": "Q8F0VIPkUZtn",
        "outputId": "45314427-7207-4806-e6c2-36c19bb83504"
      },
      "execution_count": 28,
      "outputs": [
        {
          "output_type": "stream",
          "name": "stdout",
          "text": [
            "Looking in indexes: https://pypi.org/simple, https://us-python.pkg.dev/colab-wheels/public/simple/\n",
            "Requirement already satisfied: scikit-learn in /usr/local/lib/python3.7/dist-packages (1.0.2)\n",
            "Requirement already satisfied: threadpoolctl>=2.0.0 in /usr/local/lib/python3.7/dist-packages (from scikit-learn) (3.1.0)\n",
            "Requirement already satisfied: joblib>=0.11 in /usr/local/lib/python3.7/dist-packages (from scikit-learn) (1.1.0)\n",
            "Requirement already satisfied: scipy>=1.1.0 in /usr/local/lib/python3.7/dist-packages (from scikit-learn) (1.7.3)\n",
            "Requirement already satisfied: numpy>=1.14.6 in /usr/local/lib/python3.7/dist-packages (from scikit-learn) (1.21.6)\n"
          ]
        }
      ]
    },
    {
      "cell_type": "code",
      "execution_count": 3,
      "metadata": {
        "id": "mN4RbdELqSPX"
      },
      "outputs": [],
      "source": [
        "import pandas as pd\n",
        "import sklearn\n",
        "from sklearn import datasets\n",
        "from sklearn.model_selection import train_test_split\n",
        "from sklearn.svm import SVR\n",
        "from sklearn.preprocessing import StandardScaler\n",
        "from sklearn.model_selection import train_test_split, GridSearchCV\n",
        "import sklearn.metrics as metrics\n",
        "import matplotlib as plt\n",
        "import numpy as np"
      ]
    },
    {
      "cell_type": "code",
      "source": [
        "from sklearn.ensemble import GradientBoostingRegressor\n",
        "from sklearn.ensemble import AdaBoostRegressor"
      ],
      "metadata": {
        "id": "yHgMAs1uxINR"
      },
      "execution_count": 4,
      "outputs": []
    },
    {
      "cell_type": "code",
      "source": [
        "housing_data = datasets.fetch_california_housing(as_frame=True)"
      ],
      "metadata": {
        "id": "fSEDjxCHqUkn"
      },
      "execution_count": 5,
      "outputs": []
    },
    {
      "cell_type": "code",
      "source": [
        "print(housing_data.feature_names)\n",
        "print(housing_data.target)\n",
        "print(housing_data.data.head())"
      ],
      "metadata": {
        "colab": {
          "base_uri": "https://localhost:8080/"
        },
        "id": "nfV5d5T3qUm6",
        "outputId": "8afd1ba2-c6ab-4750-c2c3-b97e5c5448ff"
      },
      "execution_count": 6,
      "outputs": [
        {
          "output_type": "stream",
          "name": "stdout",
          "text": [
            "['MedInc', 'HouseAge', 'AveRooms', 'AveBedrms', 'Population', 'AveOccup', 'Latitude', 'Longitude']\n",
            "0        4.526\n",
            "1        3.585\n",
            "2        3.521\n",
            "3        3.413\n",
            "4        3.422\n",
            "         ...  \n",
            "20635    0.781\n",
            "20636    0.771\n",
            "20637    0.923\n",
            "20638    0.847\n",
            "20639    0.894\n",
            "Name: MedHouseVal, Length: 20640, dtype: float64\n",
            "   MedInc  HouseAge  AveRooms  AveBedrms  Population  AveOccup  Latitude  \\\n",
            "0  8.3252      41.0  6.984127   1.023810       322.0  2.555556     37.88   \n",
            "1  8.3014      21.0  6.238137   0.971880      2401.0  2.109842     37.86   \n",
            "2  7.2574      52.0  8.288136   1.073446       496.0  2.802260     37.85   \n",
            "3  5.6431      52.0  5.817352   1.073059       558.0  2.547945     37.85   \n",
            "4  3.8462      52.0  6.281853   1.081081       565.0  2.181467     37.85   \n",
            "\n",
            "   Longitude  \n",
            "0    -122.23  \n",
            "1    -122.22  \n",
            "2    -122.24  \n",
            "3    -122.25  \n",
            "4    -122.25  \n"
          ]
        }
      ]
    },
    {
      "cell_type": "code",
      "source": [
        "X_train, X_test, y_train, y_test = train_test_split(housing_data.data, housing_data.target, test_size=0.2,random_state=109)\n",
        "\n",
        "print(len(X_train))\n",
        "\n",
        "print(len(X_test))"
      ],
      "metadata": {
        "colab": {
          "base_uri": "https://localhost:8080/"
        },
        "id": "FeJUDC4FqUo7",
        "outputId": "4e2f7991-445a-49be-f78d-088beb16548b"
      },
      "execution_count": 7,
      "outputs": [
        {
          "output_type": "stream",
          "name": "stdout",
          "text": [
            "16512\n",
            "4128\n"
          ]
        }
      ]
    },
    {
      "cell_type": "code",
      "source": [
        "steps = [('scaler', StandardScaler()), ('SVM', SVR())]\n",
        "#StandardScaler() Standardizes features by removing the mean and scaling to unit variance\n",
        "#SVC is an SVM written in C\n",
        "\n",
        "from sklearn.pipeline import Pipeline\n",
        "pipeline = Pipeline(steps) # define the pipeline object\n"
      ],
      "metadata": {
        "id": "lS3VNiB7qUt8"
      },
      "execution_count": 8,
      "outputs": []
    },
    {
      "cell_type": "code",
      "source": [
        "parameters = {'SVM__C':[0.1, 1], 'SVM__gamma': [0.01, 0.1]}\n",
        "grid = GridSearchCV(pipeline, param_grid=parameters, cv=5)"
      ],
      "metadata": {
        "id": "-5cZnl-0qUxX"
      },
      "execution_count": 11,
      "outputs": []
    },
    {
      "cell_type": "code",
      "source": [
        "grid.fit(X_train, y_train)"
      ],
      "metadata": {
        "colab": {
          "base_uri": "https://localhost:8080/"
        },
        "id": "6RQdyh3bqdCY",
        "outputId": "d5900ae2-11eb-47cf-bd69-8df9ef4b6187"
      },
      "execution_count": 12,
      "outputs": [
        {
          "output_type": "execute_result",
          "data": {
            "text/plain": [
              "GridSearchCV(cv=5,\n",
              "             estimator=Pipeline(steps=[('scaler', StandardScaler()),\n",
              "                                       ('SVM', SVR())]),\n",
              "             param_grid={'SVM__C': [0.1, 1], 'SVM__gamma': [0.01, 0.1]})"
            ]
          },
          "metadata": {},
          "execution_count": 12
        }
      ]
    },
    {
      "cell_type": "code",
      "source": [
        "housing_predictions = grid.predict(X_test)\n",
        "grid_mse = metrics.mean_squared_error(y_test, housing_predictions)\n",
        "\n",
        "grid_mse = np.sqrt(grid_mse)\n",
        "\n",
        "grid_mse"
      ],
      "metadata": {
        "colab": {
          "base_uri": "https://localhost:8080/"
        },
        "id": "Z3m0xwiWqdSs",
        "outputId": "b486bd9b-aecd-4dcc-8f8d-6e1d6bb65db6"
      },
      "execution_count": 13,
      "outputs": [
        {
          "output_type": "execute_result",
          "data": {
            "text/plain": [
              "0.60319920708803"
            ]
          },
          "metadata": {},
          "execution_count": 13
        }
      ]
    },
    {
      "cell_type": "code",
      "source": [
        "grid.best_params_"
      ],
      "metadata": {
        "colab": {
          "base_uri": "https://localhost:8080/"
        },
        "id": "-LFxqDMrqdlE",
        "outputId": "7f3cb2a6-ab8d-4c6f-a850-6c656d13491d"
      },
      "execution_count": 14,
      "outputs": [
        {
          "output_type": "execute_result",
          "data": {
            "text/plain": [
              "{'SVM__C': 1, 'SVM__gamma': 0.1}"
            ]
          },
          "metadata": {},
          "execution_count": 14
        }
      ]
    },
    {
      "cell_type": "code",
      "source": [
        "parameters = {'SVM__C':[1], 'SVM__gamma': [0.1]}\n",
        "grid = GridSearchCV(pipeline, param_grid=parameters, cv=5)\n",
        "grid.fit(X_train, y_train)"
      ],
      "metadata": {
        "colab": {
          "base_uri": "https://localhost:8080/"
        },
        "id": "80sf7JEGjsAR",
        "outputId": "d1cbec9a-6786-4faf-8f0a-eb62ea73fc70"
      },
      "execution_count": 50,
      "outputs": [
        {
          "output_type": "execute_result",
          "data": {
            "text/plain": [
              "GridSearchCV(cv=5,\n",
              "             estimator=Pipeline(steps=[('scaler', StandardScaler()),\n",
              "                                       ('SVM', SVR())]),\n",
              "             param_grid={'SVM__C': [1], 'SVM__gamma': [0.1]})"
            ]
          },
          "metadata": {},
          "execution_count": 50
        }
      ]
    },
    {
      "cell_type": "code",
      "source": [
        "grad_b_tree_1 = GradientBoostingRegressor(random_state=0, n_estimators=3, learning_rate=1, max_depth=6)\n",
        "\n",
        "grad_b_tree_1.fit(X_train, y_train)"
      ],
      "metadata": {
        "colab": {
          "base_uri": "https://localhost:8080/"
        },
        "id": "RKx0w5ZmzVv2",
        "outputId": "386e225d-c2f2-4fb1-b2a1-943c8eeb4e91"
      },
      "execution_count": 15,
      "outputs": [
        {
          "output_type": "execute_result",
          "data": {
            "text/plain": [
              "GradientBoostingRegressor(learning_rate=1, max_depth=6, n_estimators=3,\n",
              "                          random_state=0)"
            ]
          },
          "metadata": {},
          "execution_count": 15
        }
      ]
    },
    {
      "cell_type": "code",
      "source": [
        "housing_predictions = grad_b_tree_1.predict(X_test)\n",
        "\n",
        "grad_b_tree_1_mse = metrics.mean_squared_error(y_test, housing_predictions)\n",
        "\n",
        "\n",
        "\n",
        "grad_b_tree_1_mse = np.sqrt(grad_b_tree_1_mse)\n",
        "\n",
        "\n",
        "grad_b_tree_1_mse"
      ],
      "metadata": {
        "colab": {
          "base_uri": "https://localhost:8080/"
        },
        "id": "5njCIZL8zWMI",
        "outputId": "fd3f29af-7448-4fd5-dbe4-666c84a5d26f"
      },
      "execution_count": 16,
      "outputs": [
        {
          "output_type": "execute_result",
          "data": {
            "text/plain": [
              "0.5778133468835156"
            ]
          },
          "metadata": {},
          "execution_count": 16
        }
      ]
    },
    {
      "cell_type": "code",
      "source": [
        "grad_b_tree_3 = GradientBoostingRegressor(random_state=0, n_estimators=500, learning_rate=0.02, max_depth=8)\n",
        "\n",
        "grad_b_tree_3.fit(X_train, y_train)"
      ],
      "metadata": {
        "colab": {
          "base_uri": "https://localhost:8080/"
        },
        "id": "NO0CkFDcqdxA",
        "outputId": "70b8b54b-2f39-45e8-e01b-6d7ad13c28ec"
      },
      "execution_count": 17,
      "outputs": [
        {
          "output_type": "execute_result",
          "data": {
            "text/plain": [
              "GradientBoostingRegressor(learning_rate=0.02, max_depth=8, n_estimators=500,\n",
              "                          random_state=0)"
            ]
          },
          "metadata": {},
          "execution_count": 17
        }
      ]
    },
    {
      "cell_type": "code",
      "source": [
        "housing_predictions = grad_b_tree_3.predict(X_test)\n",
        "\n",
        "grad_b_tree_3_mse = metrics.mean_squared_error(y_test, housing_predictions)\n",
        "\n",
        "\n",
        "\n",
        "grad_b_tree_3_mse = np.sqrt(grad_b_tree_3_mse)\n",
        "\n",
        "\n",
        "grad_b_tree_3_mse"
      ],
      "metadata": {
        "colab": {
          "base_uri": "https://localhost:8080/"
        },
        "id": "XPmNG1q6qeBd",
        "outputId": "8c287e41-b6f9-4dc8-b3f8-6e8c7179186a"
      },
      "execution_count": 18,
      "outputs": [
        {
          "output_type": "execute_result",
          "data": {
            "text/plain": [
              "0.46278899921044225"
            ]
          },
          "metadata": {},
          "execution_count": 18
        }
      ]
    },
    {
      "cell_type": "code",
      "source": [
        "grad_b_tree_3 = GradientBoostingRegressor(random_state=0, n_estimators=500, learning_rate=0.02, max_depth=12)\n",
        "\n",
        "grad_b_tree_3.fit(X_train, y_train)"
      ],
      "metadata": {
        "colab": {
          "base_uri": "https://localhost:8080/"
        },
        "id": "Ri0uk65Mqed2",
        "outputId": "a91973d2-ce1b-4000-b594-0b23295f5f2b"
      },
      "execution_count": 20,
      "outputs": [
        {
          "output_type": "execute_result",
          "data": {
            "text/plain": [
              "GradientBoostingRegressor(learning_rate=0.02, max_depth=12, n_estimators=500,\n",
              "                          random_state=0)"
            ]
          },
          "metadata": {},
          "execution_count": 20
        }
      ]
    },
    {
      "cell_type": "code",
      "source": [
        "housing_predictions = grad_b_tree_3.predict(X_test)\n",
        "\n",
        "grad_b_tree_3_mse = metrics.mean_squared_error(y_test, housing_predictions)\n",
        "\n",
        "\n",
        "\n",
        "grad_b_tree_3_mse = np.sqrt(grad_b_tree_3_mse)\n",
        "\n",
        "\n",
        "grad_b_tree_3_mse"
      ],
      "metadata": {
        "colab": {
          "base_uri": "https://localhost:8080/"
        },
        "id": "Jby_MND9xsQ5",
        "outputId": "431633eb-4568-4063-f254-0897e35482cc"
      },
      "execution_count": 21,
      "outputs": [
        {
          "output_type": "execute_result",
          "data": {
            "text/plain": [
              "0.4876974925974807"
            ]
          },
          "metadata": {},
          "execution_count": 21
        }
      ]
    },
    {
      "cell_type": "code",
      "source": [
        "grad_b_tree_3 = GradientBoostingRegressor(random_state=0, n_estimators=500, learning_rate=0.02, max_depth=10)\n",
        "\n",
        "grad_b_tree_3.fit(X_train, y_train)"
      ],
      "metadata": {
        "colab": {
          "base_uri": "https://localhost:8080/"
        },
        "id": "5yzzo3nQyL6l",
        "outputId": "716ea4a2-b81d-41dd-a68c-a527865ccae5"
      },
      "execution_count": 22,
      "outputs": [
        {
          "output_type": "execute_result",
          "data": {
            "text/plain": [
              "GradientBoostingRegressor(learning_rate=0.02, max_depth=10, n_estimators=500,\n",
              "                          random_state=0)"
            ]
          },
          "metadata": {},
          "execution_count": 22
        }
      ]
    },
    {
      "cell_type": "code",
      "source": [
        "housing_predictions = grad_b_tree_3.predict(X_test)\n",
        "\n",
        "grad_b_tree_3_mse = metrics.mean_squared_error(y_test, housing_predictions)\n",
        "\n",
        "\n",
        "\n",
        "grad_b_tree_3_mse = np.sqrt(grad_b_tree_3_mse)\n",
        "\n",
        "\n",
        "grad_b_tree_3_mse"
      ],
      "metadata": {
        "colab": {
          "base_uri": "https://localhost:8080/"
        },
        "id": "jMU_DFT9yMGV",
        "outputId": "7e139122-007b-4e8a-a71a-0d26e07c41c4"
      },
      "execution_count": 23,
      "outputs": [
        {
          "output_type": "execute_result",
          "data": {
            "text/plain": [
              "0.4737588827298426"
            ]
          },
          "metadata": {},
          "execution_count": 23
        }
      ]
    },
    {
      "cell_type": "code",
      "source": [
        "ada_1 = AdaBoostRegressor(learning_rate=0.01, n_estimators=5000)\n",
        "\n",
        "ada_1.fit(X_train, y_train)"
      ],
      "metadata": {
        "colab": {
          "base_uri": "https://localhost:8080/"
        },
        "id": "Zo-OOyjG1hNe",
        "outputId": "9d2f02b1-ab67-4133-97a9-2e4b67bcda14"
      },
      "execution_count": 52,
      "outputs": [
        {
          "output_type": "execute_result",
          "data": {
            "text/plain": [
              "AdaBoostRegressor(learning_rate=0.01, n_estimators=5000)"
            ]
          },
          "metadata": {},
          "execution_count": 52
        }
      ]
    },
    {
      "cell_type": "code",
      "source": [
        "housing_predictions = ada_1.predict(X_test)\n",
        "\n",
        "ada_1_mse = metrics.mean_squared_error(y_test, housing_predictions)\n",
        "\n",
        "\n",
        "\n",
        "ada_1_mse = np.sqrt(ada_1_mse)\n",
        "\n",
        "\n",
        "ada_1_mse"
      ],
      "metadata": {
        "colab": {
          "base_uri": "https://localhost:8080/"
        },
        "id": "_E2sbYe_1hZd",
        "outputId": "4ea0b38f-a7e0-4c3c-ad10-8be9f4c70e68"
      },
      "execution_count": 53,
      "outputs": [
        {
          "output_type": "execute_result",
          "data": {
            "text/plain": [
              "0.780451492745576"
            ]
          },
          "metadata": {},
          "execution_count": 53
        }
      ]
    },
    {
      "cell_type": "code",
      "source": [
        "from sklearn.linear_model import LassoCV, RidgeCV, ElasticNetCV"
      ],
      "metadata": {
        "id": "zRpYQVO5ghjo"
      },
      "execution_count": 40,
      "outputs": []
    },
    {
      "cell_type": "code",
      "source": [
        "Ridge_reg = RidgeCV()\n",
        "Ridge_reg.fit(X_train, y_train)"
      ],
      "metadata": {
        "colab": {
          "base_uri": "https://localhost:8080/"
        },
        "id": "wLIweXqDgLYt",
        "outputId": "426065b3-6f25-463d-9ced-7f3dd20281df"
      },
      "execution_count": 41,
      "outputs": [
        {
          "output_type": "execute_result",
          "data": {
            "text/plain": [
              "RidgeCV(alphas=array([ 0.1,  1. , 10. ]))"
            ]
          },
          "metadata": {},
          "execution_count": 41
        }
      ]
    },
    {
      "cell_type": "code",
      "source": [
        "housing_predictions = Ridge_reg.predict(X_test)\n",
        "\n",
        "Ridge_reg_mse = metrics.mean_squared_error(y_test, housing_predictions)\n",
        "\n",
        "\n",
        "\n",
        "Ridge_reg_mse = np.sqrt(Ridge_reg_mse)\n",
        "\n",
        "\n",
        "Ridge_reg_mse"
      ],
      "metadata": {
        "colab": {
          "base_uri": "https://localhost:8080/"
        },
        "id": "WwDCHuRhgLsV",
        "outputId": "97e1945d-7641-4ee8-daa5-67084c706953"
      },
      "execution_count": 42,
      "outputs": [
        {
          "output_type": "execute_result",
          "data": {
            "text/plain": [
              "0.7368936995791103"
            ]
          },
          "metadata": {},
          "execution_count": 42
        }
      ]
    },
    {
      "cell_type": "code",
      "source": [
        "Elastic_reg = ElasticNetCV()\n",
        "Elastic_reg.fit(X_train, y_train)"
      ],
      "metadata": {
        "colab": {
          "base_uri": "https://localhost:8080/"
        },
        "id": "FCmcAhuRgL84",
        "outputId": "9e3bfac7-d20b-4e15-8843-b143eb6fbfc0"
      },
      "execution_count": 46,
      "outputs": [
        {
          "output_type": "execute_result",
          "data": {
            "text/plain": [
              "ElasticNetCV()"
            ]
          },
          "metadata": {},
          "execution_count": 46
        }
      ]
    },
    {
      "cell_type": "code",
      "source": [
        "housing_predictions = Elastic_reg.predict(X_test)\n",
        "\n",
        "Elastic_reg_mse = metrics.mean_squared_error(y_test, housing_predictions)\n",
        "\n",
        "\n",
        "\n",
        "Elastic_reg_mse = np.sqrt(Elastic_reg_mse)\n",
        "\n",
        "\n",
        "Elastic_reg_mse"
      ],
      "metadata": {
        "colab": {
          "base_uri": "https://localhost:8080/"
        },
        "id": "oy4n9bxGgMNG",
        "outputId": "dc45b29a-96d8-4338-c1ad-0a34e714e0ab"
      },
      "execution_count": 47,
      "outputs": [
        {
          "output_type": "execute_result",
          "data": {
            "text/plain": [
              "0.7539903938255673"
            ]
          },
          "metadata": {},
          "execution_count": 47
        }
      ]
    },
    {
      "cell_type": "code",
      "source": [
        "from sklearn.ensemble import StackingRegressor\n",
        "\n",
        "print(X_train.shape)\n",
        "print(y_train.shape)\n",
        "estimators = [('tree', grad_b_tree_3), ('svm1', grid), ('ada1', ada_1)]\n",
        "clf = StackingRegressor(estimators=estimators)\n",
        "clf.fit(X_train, y_train)\n",
        "\n"
      ],
      "metadata": {
        "colab": {
          "base_uri": "https://localhost:8080/"
        },
        "id": "XVUxR92uMIti",
        "outputId": "9d6c1a05-697f-4928-8775-87bd587b74f3"
      },
      "execution_count": 55,
      "outputs": [
        {
          "output_type": "stream",
          "name": "stdout",
          "text": [
            "(16512, 8)\n",
            "(16512,)\n"
          ]
        },
        {
          "output_type": "execute_result",
          "data": {
            "text/plain": [
              "StackingRegressor(estimators=[('tree',\n",
              "                               GradientBoostingRegressor(learning_rate=0.02,\n",
              "                                                         max_depth=8,\n",
              "                                                         n_estimators=500,\n",
              "                                                         random_state=0)),\n",
              "                              ('svm1',\n",
              "                               GridSearchCV(cv=5,\n",
              "                                            estimator=Pipeline(steps=[('scaler',\n",
              "                                                                       StandardScaler()),\n",
              "                                                                      ('SVM',\n",
              "                                                                       SVR())]),\n",
              "                                            param_grid={'SVM__C': [1],\n",
              "                                                        'SVM__gamma': [0.1]})),\n",
              "                              ('ada1',\n",
              "                               AdaBoostRegressor(learning_rate=0.01,\n",
              "                                                 n_estimators=5000))])"
            ]
          },
          "metadata": {},
          "execution_count": 55
        }
      ]
    },
    {
      "cell_type": "code",
      "source": [
        "housing_predictions = clf.predict(X_test)\n",
        "\n",
        "clf_mse = metrics.mean_squared_error(y_test, housing_predictions)\n",
        "\n",
        "\n",
        "\n",
        "clf_mse = np.sqrt(clf_mse)\n",
        "\n",
        "\n",
        "clf_mse\n",
        "\n",
        "#0.46256 mse score with just grad_b_tree 1 and 3 "
      ],
      "metadata": {
        "colab": {
          "base_uri": "https://localhost:8080/"
        },
        "id": "VKiOkUf-MI7R",
        "outputId": "02918079-d1f9-4723-ca68-91c89e5a2855"
      },
      "execution_count": 56,
      "outputs": [
        {
          "output_type": "execute_result",
          "data": {
            "text/plain": [
              "0.46227134831820116"
            ]
          },
          "metadata": {},
          "execution_count": 56
        }
      ]
    }
  ]
}